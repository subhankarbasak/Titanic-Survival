{
  "nbformat": 4,
  "nbformat_minor": 0,
  "metadata": {
    "colab": {
      "name": "TitanicSurvival.ipynb",
      "provenance": [],
      "collapsed_sections": []
    },
    "kernelspec": {
      "name": "python3",
      "display_name": "Python 3"
    },
    "language_info": {
      "name": "python"
    }
  },
  "cells": [
    {
      "cell_type": "code",
      "metadata": {
        "colab": {
          "base_uri": "https://localhost:8080/",
          "height": 671
        },
        "id": "hT1gY43zZ0sf",
        "outputId": "65e27997-b80e-42e1-dcf7-0630769e97a8"
      },
      "source": [
        "#Import Libraries\n",
        "import numpy as np\n",
        "import pandas as pd\n",
        "import matplotlib.pyplot as plt\n",
        "import seaborn as sns\n",
        "\n",
        "from sklearn.model_selection import train_test_split\n",
        "from sklearn.linear_model import LogisticRegression\n",
        "from sklearn.metrics import classification_report\n",
        "from sklearn.metrics import confusion_matrix\n",
        "from sklearn.metrics import accuracy_score\n",
        "#Load the data\n",
        "#titanic = sns.load_dataset('titanic')\n",
        "titanic=pd.read_csv(\"https://raw.githubusercontent.com/subhankarbasak/Titanic-Survival/main/titanic_train.csv\")\n",
        "titanic_test=pd.read_csv(\"https://raw.githubusercontent.com/subhankarbasak/Titanic-Survival/main/titanic_test.csv\")\n",
        "print('Number of passengers in train dataset: ' + str(len(titanic)))\n",
        "# Number of passengers Survived\n",
        "sns.countplot(x = 'Survived', data = titanic)\n",
        "# Number of passengers Survived based on Passenger Class\n",
        "sns.countplot(x = 'Survived', hue = 'Pclass', data = titanic)\n",
        "# Frequency of passengers group by Age\n",
        "titanic['Age'].plot.hist()\n",
        "# Frequency of passengers group by Fare\n",
        "titanic['Fare'].plot.hist()\n",
        "# Train Dataset Information\n",
        "#titanic.info()\n",
        "# Number of siblings / spouses aboard the Titanic\n",
        "sns.countplot(x = 'SibSp', data = titanic)\n",
        "# Check for NULL values in training set\n",
        "titanic.isnull().sum()\n",
        "# Heatmap for NULL values\n",
        "sns.heatmap(titanic.isnull())\n",
        "# Passenger Class vs Age\n",
        "sns.boxplot(x = 'Pclass', y = 'Age', data = titanic)\n",
        "# Data Preprocessing ####\n",
        "# Train Data\n",
        "sex = pd.get_dummies(titanic['Sex'], drop_first = True)\n",
        "embark = pd.get_dummies(titanic['Embarked'],drop_first=True)\n",
        "pcl = pd.get_dummies(titanic['Pclass'],drop_first=True)\n",
        "# Concat new features in train data\n",
        "titanic = pd.concat([titanic,sex,embark,pcl],axis=1)\n",
        "titanic.head()\n",
        "# Dropping columns from train dataset\n",
        "titanic.drop(['Pclass','Sex','Embarked','Cabin','PassengerId','Name','Ticket'],axis=1, inplace=True)\n",
        "titanic.head()\n",
        "# Check for NULL values\n",
        "titanic.isnull().sum()\n",
        "# Handling NULL values\n",
        "titanic_values = {'Age': round(np.mean(titanic['Age']))}\n",
        "titanic = titanic.fillna(value = titanic_values)\n",
        "titanic.head()\n",
        "# Test Data\n",
        "sex = pd.get_dummies(titanic_test['Sex'], drop_first = True)\n",
        "embark = pd.get_dummies(titanic_test['Embarked'],drop_first=True)\n",
        "pcl = pd.get_dummies(titanic_test['Pclass'],drop_first=True)\n",
        "# Concat new features in test data\n",
        "titanic_test = pd.concat([titanic_test,sex,embark,pcl],axis=1)\n",
        "titanic_test.head()\n",
        "# Dropping columns from train dataset\n",
        "titanic_test.drop(['Pclass','Sex','Embarked','Cabin','PassengerId','Name','Ticket'],axis=1, inplace=True)\n",
        "# Check for NULL values\n",
        "titanic_test.isnull().sum()\n",
        "# Handling NULL values\n",
        "titanic_test_values = {'Age':round(np.mean(titanic_test['Age'])), 'Fare':round(np.mean(titanic_test['Fare']))}\n",
        "titanic_test = titanic_test.fillna(value = titanic_test_values)\n",
        "titanic_test.head()\n",
        "X = titanic.drop('Survived',axis=1)\n",
        "y = titanic['Survived']\n",
        "X_train, X_test, y_train, y_test = train_test_split(X, y, test_size=0.3, random_state=1)\n",
        "#Define Model\n",
        "logmodel = LogisticRegression(solver = 'liblinear')\n",
        "#Fit Model\n",
        "logmodel.fit(X_train, y_train)\n",
        "predections = logmodel.predict(X_test)\n",
        "# Classification Report\n",
        "print(classification_report(y_test, predections))\n",
        "pd.DataFrame(confusion_matrix(y_test,predections),columns=['Predicted No','Predicted Yes'],index=['Actual No','Actual Yes'])\n",
        "# Accuracy\n",
        "print(\"Accuracy: \",accuracy_score(y_test, predections))\n",
        "# Prediction\n",
        "test_predictions = logmodel.predict(titanic_test)\n",
        "print(\"Test Prediction: \", test_predictions)"
      ],
      "execution_count": 110,
      "outputs": [
        {
          "output_type": "stream",
          "text": [
            "Number of passengers in train dataset: 891\n",
            "              precision    recall  f1-score   support\n",
            "\n",
            "           0       0.77      0.88      0.82       153\n",
            "           1       0.81      0.65      0.72       115\n",
            "\n",
            "    accuracy                           0.78       268\n",
            "   macro avg       0.79      0.77      0.77       268\n",
            "weighted avg       0.79      0.78      0.78       268\n",
            "\n",
            "Accuracy:  0.7835820895522388\n",
            "Test Prediction:  [0 0 0 0 1 0 1 0 1 0 0 0 1 0 1 1 0 0 0 1 0 0 1 1 1 0 1 0 0 0 0 0 0 1 0 0 1\n",
            " 1 0 0 0 0 0 1 1 0 0 0 1 1 0 0 1 1 0 0 0 0 0 1 0 0 0 1 1 1 1 0 0 1 1 0 1 0\n",
            " 1 1 0 1 0 1 0 0 0 0 0 0 1 1 1 0 1 0 1 0 0 0 1 0 1 0 1 0 0 0 1 0 0 0 0 0 0\n",
            " 1 1 1 1 0 0 1 0 1 1 0 1 0 0 1 0 1 0 0 0 0 1 0 0 0 0 0 1 0 0 1 0 0 0 0 0 0\n",
            " 0 0 1 0 0 1 0 0 1 1 0 1 1 0 1 0 0 1 0 0 1 1 0 0 0 0 0 1 1 0 1 1 0 0 1 0 1\n",
            " 0 1 0 0 0 0 0 0 0 0 0 1 1 0 1 1 0 0 1 0 0 1 0 1 0 0 0 0 1 0 0 1 0 1 0 1 0\n",
            " 1 0 1 1 0 1 0 0 0 1 0 0 0 0 0 0 1 1 1 1 0 0 0 0 1 0 1 1 1 0 0 0 0 0 0 0 1\n",
            " 0 0 0 1 1 0 0 0 0 1 0 0 0 1 1 0 1 0 0 0 0 1 0 1 1 1 0 0 0 0 0 0 1 0 0 0 0\n",
            " 1 0 0 0 0 0 0 0 1 1 0 0 0 0 0 0 0 1 1 1 0 0 0 0 0 0 0 0 1 0 1 0 0 0 1 0 0\n",
            " 1 0 0 0 0 0 0 0 0 0 1 0 1 0 1 0 1 1 0 0 0 1 0 1 0 0 0 0 1 1 0 1 1 0 1 1 0\n",
            " 0 1 0 0 1 1 0 0 0 0 0 0 1 1 0 1 0 0 0 0 0 1 0 0 0 1 0 1 0 0 1 0 1 0 0 0 0\n",
            " 0 1 1 1 1 1 0 1 0 0 0]\n"
          ],
          "name": "stdout"
        },
        {
          "output_type": "display_data",
          "data": {
            "image/png": "[encoded data removed]",
            "text/plain": [
              "<Figure size 432x288 with 2 Axes>"
            ]
          },
          "metadata": {
            "tags": [],
            "needs_background": "light"
          }
        }
      ]
    }
  ]
}